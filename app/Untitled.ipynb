{
 "cells": [
  {
   "cell_type": "code",
   "execution_count": 2,
   "metadata": {},
   "outputs": [],
   "source": [
    "import re\n",
    "content= '''오늘은 신나는 #Django 웹프로그래밍스쿨 오는 날 #웹프로그래밍스쿨#Django#Python'''"
   ]
  },
  {
   "cell_type": "code",
   "execution_count": 66,
   "metadata": {},
   "outputs": [
    {
     "data": {
      "text/plain": [
       "{'Django', 'Python', '웹프로그래밍스쿨'}"
      ]
     },
     "execution_count": 66,
     "metadata": {},
     "output_type": "execute_result"
    }
   ],
   "source": [
    "result = re.findall(r'#(\\w+)', content)\n",
    "result = set(result)\n",
    "result"
   ]
  },
  {
   "cell_type": "code",
   "execution_count": 76,
   "metadata": {},
   "outputs": [
    {
     "data": {
      "text/plain": [
       "'오늘은 신나는 (태그: Django) 웹프로그래밍스쿨 오는 날 (태그: 웹프로그래밍스쿨)(태그: Django)(태그: Python)'"
      ]
     },
     "execution_count": 76,
     "metadata": {},
     "output_type": "execute_result"
    }
   ],
   "source": [
    "result2 = re.sub(r'#(\\w+)','(태그: \\g<1>)', content)\n",
    "result2"
   ]
  },
  {
   "cell_type": "code",
   "execution_count": 80,
   "metadata": {},
   "outputs": [
    {
     "name": "stdout",
     "output_type": "stream",
     "text": [
      "#Django\n",
      "Django\n",
      "#웹프로그래밍스쿨\n",
      "웹프로그래밍스쿨\n",
      "#Django\n",
      "Django\n",
      "#Python\n",
      "Python\n"
     ]
    }
   ],
   "source": [
    "match_list = re.finditer(r'#(\\w+)', content)\n",
    "for m in match_list:\n",
    "    print(m.group(0))\n",
    "    print(m.group(1))"
   ]
  },
  {
   "cell_type": "code",
   "execution_count": null,
   "metadata": {},
   "outputs": [],
   "source": []
  }
 ],
 "metadata": {
  "kernelspec": {
   "display_name": "Python 3",
   "language": "python",
   "name": "python3"
  },
  "language_info": {
   "codemirror_mode": {
    "name": "ipython",
    "version": 3
   },
   "file_extension": ".py",
   "mimetype": "text/x-python",
   "name": "python",
   "nbconvert_exporter": "python",
   "pygments_lexer": "ipython3",
   "version": "3.6.9"
  }
 },
 "nbformat": 4,
 "nbformat_minor": 2
}
