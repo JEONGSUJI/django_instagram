{
 "cells": [
  {
   "cell_type": "code",
   "execution_count": 1,
   "metadata": {},
   "outputs": [
    {
     "data": {
      "text/plain": [
       "<QuerySet [<Post: author: jsj, content: 신나는 WPS <a href=\"/explore/tags/하이\">#하이</a> <a href=\"/explore/tags/헬로\">#헬로</a>, like_users: members.User.None, created:2019-12-23 09:36:37.381825+00:00>, <Post: author: jsj2, content: why?, like_users: members.User.None, created:2020-01-07 11:42:58.015627+00:00>, <Post: author: jsj, content: qwe, like_users: members.User.None, created:2020-01-08 06:53:14.981393+00:00>, <Post: author: jsj, content: qwe, like_users: members.User.None, created:2020-01-08 06:55:15.084831+00:00>, <Post: author: jsj, content: test1, like_users: members.User.None, created:2020-01-08 06:55:42.822706+00:00>, <Post: author: jsj, content: test1, like_users: members.User.None, created:2020-01-08 06:56:19.768548+00:00>, <Post: author: jsj, content: test1, like_users: members.User.None, created:2020-01-08 07:04:31.343027+00:00>, <Post: author: jsj, content: file, like_users: members.User.None, created:2020-01-08 07:08:52.690606+00:00>, <Post: author: jsj, content: hehe, like_users: members.User.None, created:2020-01-08 08:14:08.182299+00:00>, <Post: author: jsj, content: ㅂㅈㄷ, like_users: members.User.None, created:2020-01-14 05:25:23.559534+00:00>, <Post: author: jsj, content: 강아지 #고양이 #거미 #해피, like_users: members.User.None, created:2020-01-14 06:38:17.492539+00:00>, <Post: author: jsj, content: #강아지 #고양이 #거미 #해피, like_users: members.User.None, created:2020-01-14 06:38:55.771819+00:00>, <Post: author: jsj2, content: #강아지 #고양이 #거미 #해피, like_users: members.User.None, created:2020-01-14 06:40:26.291917+00:00>, <Post: author: 강아지, content: #강아지 #고양이 #거미 #해피, like_users: members.User.None, created:2020-01-14 06:45:27.172892+00:00>, <Post: author: jsj2, content: #하마 #코끼리, like_users: members.User.None, created:2020-01-14 06:47:43.491569+00:00>, <Post: author: qwe, content: #a #b #c #d, like_users: members.User.None, created:2020-01-14 07:07:31.207256+00:00>, <Post: author: jsj, content: #rksk, like_users: members.User.None, created:2020-01-14 07:38:56.261505+00:00>, <Post: author: jsj, content: #QWE #QWE12, like_users: members.User.None, created:2020-01-14 09:05:29.036271+00:00>]>"
      ]
     },
     "execution_count": 1,
     "metadata": {},
     "output_type": "execute_result"
    }
   ],
   "source": [
    "Post.objects.all()"
   ]
  },
  {
   "cell_type": "code",
   "execution_count": 2,
   "metadata": {},
   "outputs": [
    {
     "data": {
      "text/plain": [
       "<QuerySet [<Tag: baby>, <Tag: ['강아지', '고양이', '거미', '해피']>, <Tag: 강아지>, <Tag: 고양이>, <Tag: 거미>, <Tag: 해피>, <Tag: 강아지>, <Tag: 고양이>, <Tag: 거미>, <Tag: 해피>, <Tag: 강아지>, <Tag: 고양이>, <Tag: 거미>, <Tag: 해피>, <Tag: 하마>, <Tag: 코끼리>, <Tag: Python>, <Tag: Django>, <Tag: a>, <Tag: b>, '...(remaining elements truncated)...']>"
      ]
     },
     "execution_count": 2,
     "metadata": {},
     "output_type": "execute_result"
    }
   ],
   "source": [
    "Tag.objects.all()"
   ]
  },
  {
   "cell_type": "code",
   "execution_count": 32,
   "metadata": {
    "scrolled": true
   },
   "outputs": [
    {
     "name": "stdout",
     "output_type": "stream",
     "text": [
      "baby:\n",
      "['강아지', '고양이', '거미', '해피']:\n",
      "강아지:\n",
      "고양이:\n",
      "거미:\n",
      "해피:\n",
      "강아지:\n",
      "고양이:\n",
      "거미:\n",
      "해피:\n",
      "강아지:\n",
      "고양이:\n",
      "거미:\n",
      "해피:\n",
      "하마:\n",
      "코끼리:\n",
      "Python:\n",
      "Django:29\n",
      "a:\n",
      "b:\n",
      "c:\n",
      "d:\n",
      "rksk:\n",
      "rksksksk:\n",
      "hi:\n",
      "dkssud:\n",
      "happy:\n",
      "hello:\n",
      "bye:\n",
      "하이:\n",
      "안뇽:\n",
      "헬로:\n",
      "QWE:26, 27\n",
      "QWE12:26\n",
      "django:28\n"
     ]
    }
   ],
   "source": [
    "for tag in Tag.objects.all():\n",
    "    result = '{tag}:{posts}'.format(\n",
    "        tag=tag.name,\n",
    "        posts=', '.join([str(post.pk) for post in tag.posts.all()])\n",
    "    )\n",
    "    print(result)"
   ]
  },
  {
   "cell_type": "code",
   "execution_count": 34,
   "metadata": {},
   "outputs": [
    {
     "data": {
      "text/plain": [
       "<QuerySet [{'pk': 28}]>"
      ]
     },
     "execution_count": 34,
     "metadata": {},
     "output_type": "execute_result"
    }
   ],
   "source": [
    "# QWE 이라는 이름을 가진 태그를 자신의 태그목록에 갖고있는 경우인 포스트를 가지고오고 싶다.\n",
    "\n",
    "Post.objects.filter(tags__name='django').values('pk')"
   ]
  },
  {
   "cell_type": "code",
   "execution_count": 35,
   "metadata": {},
   "outputs": [
    {
     "data": {
      "text/plain": [
       "<QuerySet [{'pk': 28}, {'pk': 29}]>"
      ]
     },
     "execution_count": 35,
     "metadata": {},
     "output_type": "execute_result"
    }
   ],
   "source": [
    "Post.objects.filter(tags__name__iexact='django').values('pk')"
   ]
  },
  {
   "cell_type": "code",
   "execution_count": null,
   "metadata": {},
   "outputs": [],
   "source": []
  }
 ],
 "metadata": {
  "kernelspec": {
   "display_name": "Django Shell-Plus",
   "language": "python",
   "name": "django_extensions"
  },
  "language_info": {
   "codemirror_mode": {
    "name": "ipython",
    "version": 3
   },
   "file_extension": ".py",
   "mimetype": "text/x-python",
   "name": "python",
   "nbconvert_exporter": "python",
   "pygments_lexer": "ipython3",
   "version": "3.7.5"
  }
 },
 "nbformat": 4,
 "nbformat_minor": 4
}
